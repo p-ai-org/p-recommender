{
 "cells": [
  {
   "cell_type": "markdown",
   "metadata": {},
   "source": [
    "# Alex's data quest"
   ]
  },
  {
   "cell_type": "code",
   "execution_count": 13,
   "metadata": {},
   "outputs": [],
   "source": [
    "import pandas as pd"
   ]
  },
  {
   "cell_type": "code",
   "execution_count": null,
   "metadata": {},
   "outputs": [],
   "source": [
    "data = pd.read_csv('data.csv', error_bad_lines=False, encoding=\"utf-8\")"
   ]
  },
  {
   "cell_type": "markdown",
   "metadata": {},
   "source": [
    "## NA DATA:"
   ]
  },
  {
   "cell_type": "code",
   "execution_count": 14,
   "metadata": {},
   "outputs": [
    {
     "data": {
      "text/plain": [
       "externalId                                      0\n",
       "classificationOfInstructionalProgramCode    12765\n",
       "courseNumber                                  117\n",
       "courseTitle                                   125\n",
       "subjectAbbreviation                           212\n",
       "departmentExternalId                          220\n",
       "institutionExternalId                         162\n",
       "facilityExternalId                            168\n",
       "description                                  4077\n",
       "dtype: int64"
      ]
     },
     "execution_count": 14,
     "metadata": {},
     "output_type": "execute_result"
    }
   ],
   "source": [
    "data.isna().sum()"
   ]
  },
  {
   "cell_type": "markdown",
   "metadata": {},
   "source": [
    "The total number of rows that will be removed:\n"
   ]
  },
  {
   "cell_type": "code",
   "execution_count": 12,
   "metadata": {},
   "outputs": [
    {
     "name": "stdout",
     "output_type": "stream",
     "text": [
      "12988\n"
     ]
    }
   ],
   "source": [
    "print(len(data) - len(data.dropna()))"
   ]
  },
  {
   "cell_type": "code",
   "execution_count": 15,
   "metadata": {},
   "outputs": [],
   "source": [
    "data = data.dropna()"
   ]
  },
  {
   "cell_type": "code",
   "execution_count": 16,
   "metadata": {},
   "outputs": [
    {
     "name": "stdout",
     "output_type": "stream",
     "text": [
      "         externalId classificationOfInstructionalProgramCode courseNumber  \\\n",
      "count          1612                                     1612         1612   \n",
      "unique          828                                       53          824   \n",
      "top     AFRI010B AF                                  45.1001  AFRI010B AF   \n",
      "freq              2                                      254            2   \n",
      "\n",
      "                  courseTitle subjectAbbreviation departmentExternalId  \\\n",
      "count                    1612                1612                 1612   \n",
      "unique                    762                  56                   56   \n",
      "top     Production Experience                MGVT                 MGVT   \n",
      "freq                       10                 175                  175   \n",
      "\n",
      "       institutionExternalId facilityExternalId  \\\n",
      "count                   1612               1612   \n",
      "unique                     7                  7   \n",
      "top                       SC                 SC   \n",
      "freq                    1011               1011   \n",
      "\n",
      "                                              description  \n",
      "count                                                1612  \n",
      "unique                                                834  \n",
      "top     All dance majors are required to complete at l...  \n",
      "freq                                                   10  \n"
     ]
    }
   ],
   "source": [
    "print(data.describe(include=\"object\"))"
   ]
  }
 ],
 "metadata": {
  "kernelspec": {
   "display_name": "Python 3.9.6 64-bit",
   "language": "python",
   "name": "python3"
  },
  "language_info": {
   "codemirror_mode": {
    "name": "ipython",
    "version": 3
   },
   "file_extension": ".py",
   "mimetype": "text/x-python",
   "name": "python",
   "nbconvert_exporter": "python",
   "pygments_lexer": "ipython3",
   "version": "3.9.6"
  },
  "orig_nbformat": 4,
  "vscode": {
   "interpreter": {
    "hash": "31f2aee4e71d21fbe5cf8b01ff0e069b9275f58929596ceb00d14d90e3e16cd6"
   }
  }
 },
 "nbformat": 4,
 "nbformat_minor": 2
}
