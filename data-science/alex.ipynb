{
 "cells": [
  {
   "cell_type": "markdown",
   "metadata": {},
   "source": [
    "# Alex's data quest"
   ]
  },
  {
   "cell_type": "code",
   "execution_count": 18,
   "metadata": {},
   "outputs": [],
   "source": [
    "import pandas as pd"
   ]
  },
  {
   "cell_type": "code",
   "execution_count": null,
   "metadata": {},
   "outputs": [],
   "source": [
    "data = pd.read_csv('data.csv', error_bad_lines=False, encoding=\"utf-8\")"
   ]
  },
  {
   "cell_type": "markdown",
   "metadata": {},
   "source": [
    "## N/A DATA:"
   ]
  },
  {
   "cell_type": "code",
   "execution_count": 21,
   "metadata": {},
   "outputs": [
    {
     "data": {
      "text/plain": [
       "externalId                                      0\n",
       "classificationOfInstructionalProgramCode    12765\n",
       "courseNumber                                  117\n",
       "courseTitle                                   125\n",
       "subjectAbbreviation                           212\n",
       "departmentExternalId                          220\n",
       "institutionExternalId                         162\n",
       "facilityExternalId                            168\n",
       "description                                  4077\n",
       "dtype: int64"
      ]
     },
     "execution_count": 21,
     "metadata": {},
     "output_type": "execute_result"
    }
   ],
   "source": [
    "data.isna().sum()"
   ]
  },
  {
   "cell_type": "markdown",
   "metadata": {},
   "source": [
    "The total number of rows that will be removed:\n"
   ]
  },
  {
   "cell_type": "code",
   "execution_count": 22,
   "metadata": {},
   "outputs": [
    {
     "name": "stdout",
     "output_type": "stream",
     "text": [
      "12988\n"
     ]
    }
   ],
   "source": [
    "print(len(data) - len(data.dropna()))"
   ]
  },
  {
   "cell_type": "code",
   "execution_count": 23,
   "metadata": {},
   "outputs": [],
   "source": [
    "data = data.dropna()"
   ]
  },
  {
   "cell_type": "code",
   "execution_count": 24,
   "metadata": {},
   "outputs": [
    {
     "name": "stdout",
     "output_type": "stream",
     "text": [
      "         externalId classificationOfInstructionalProgramCode courseNumber  \\\n",
      "count          1612                                     1612         1612   \n",
      "unique          828                                       53          824   \n",
      "top     AFRI010B AF                                  45.1001  AFRI010B AF   \n",
      "freq              2                                      254            2   \n",
      "\n",
      "                  courseTitle subjectAbbreviation departmentExternalId  \\\n",
      "count                    1612                1612                 1612   \n",
      "unique                    762                  56                   56   \n",
      "top     Production Experience                MGVT                 MGVT   \n",
      "freq                       10                 175                  175   \n",
      "\n",
      "       institutionExternalId facilityExternalId  \\\n",
      "count                   1612               1612   \n",
      "unique                     7                  7   \n",
      "top                       SC                 SC   \n",
      "freq                    1011               1011   \n",
      "\n",
      "                                              description  \n",
      "count                                                1612  \n",
      "unique                                                834  \n",
      "top     All dance majors are required to complete at l...  \n",
      "freq                                                   10  \n"
     ]
    }
   ],
   "source": [
    "print(data.describe(include=\"object\"))"
   ]
  },
  {
   "cell_type": "markdown",
   "metadata": {},
   "source": [
    "### Duplicates:\n",
    "It looks like there is only 834 unique course descripition so let's remove duplicates based on 'description' column"
   ]
  },
  {
   "cell_type": "code",
   "execution_count": 25,
   "metadata": {},
   "outputs": [
    {
     "name": "stdout",
     "output_type": "stream",
     "text": [
      "1612\n",
      "834\n"
     ]
    }
   ],
   "source": [
    "print(len(data))\n",
    "data = data.drop_duplicates(subset='description')\n",
    "print(len(data))"
   ]
  },
  {
   "cell_type": "code",
   "execution_count": 26,
   "metadata": {},
   "outputs": [
    {
     "data": {
      "text/html": [
       "<div>\n",
       "<style scoped>\n",
       "    .dataframe tbody tr th:only-of-type {\n",
       "        vertical-align: middle;\n",
       "    }\n",
       "\n",
       "    .dataframe tbody tr th {\n",
       "        vertical-align: top;\n",
       "    }\n",
       "\n",
       "    .dataframe thead th {\n",
       "        text-align: right;\n",
       "    }\n",
       "</style>\n",
       "<table border=\"1\" class=\"dataframe\">\n",
       "  <thead>\n",
       "    <tr style=\"text-align: right;\">\n",
       "      <th></th>\n",
       "      <th>externalId</th>\n",
       "      <th>classificationOfInstructionalProgramCode</th>\n",
       "      <th>courseNumber</th>\n",
       "      <th>courseTitle</th>\n",
       "      <th>subjectAbbreviation</th>\n",
       "      <th>departmentExternalId</th>\n",
       "      <th>institutionExternalId</th>\n",
       "      <th>facilityExternalId</th>\n",
       "      <th>description</th>\n",
       "    </tr>\n",
       "  </thead>\n",
       "  <tbody>\n",
       "    <tr>\n",
       "      <th>18</th>\n",
       "      <td>AFRI010B AF</td>\n",
       "      <td>05.0201</td>\n",
       "      <td>AFRI010B AF</td>\n",
       "      <td>Research Methods</td>\n",
       "      <td>SIDO</td>\n",
       "      <td>SIDO</td>\n",
       "      <td>SC</td>\n",
       "      <td>SC</td>\n",
       "      <td>Africana Studies is an interdisciplinary field...</td>\n",
       "    </tr>\n",
       "    <tr>\n",
       "      <th>20</th>\n",
       "      <td>AFRI116  AF</td>\n",
       "      <td>05.0201</td>\n",
       "      <td>AFRI116  AF</td>\n",
       "      <td>Marxism &amp; the Black Radical Trad</td>\n",
       "      <td>SAFR</td>\n",
       "      <td>SAFR</td>\n",
       "      <td>SC</td>\n",
       "      <td>SC</td>\n",
       "      <td>Marxism has had a long and vibrant relationshi...</td>\n",
       "    </tr>\n",
       "    <tr>\n",
       "      <th>21</th>\n",
       "      <td>AFRI119  AF</td>\n",
       "      <td>05.0201</td>\n",
       "      <td>AFRI119  AF</td>\n",
       "      <td>Journal &amp; New Media</td>\n",
       "      <td>SAFR</td>\n",
       "      <td>SAFR</td>\n",
       "      <td>SC</td>\n",
       "      <td>SC</td>\n",
       "      <td>Students research conceptual frameworks toward...</td>\n",
       "    </tr>\n",
       "    <tr>\n",
       "      <th>24</th>\n",
       "      <td>AFRI121  AF</td>\n",
       "      <td>05.0201</td>\n",
       "      <td>AFRI121  AF</td>\n",
       "      <td>Africana Philosophy</td>\n",
       "      <td>MIDS</td>\n",
       "      <td>MIDS</td>\n",
       "      <td>CM</td>\n",
       "      <td>CM</td>\n",
       "      <td>Philosophical thought and the philosophical ca...</td>\n",
       "    </tr>\n",
       "    <tr>\n",
       "      <th>25</th>\n",
       "      <td>AFRI125  AF</td>\n",
       "      <td>05.0201</td>\n",
       "      <td>AFRI125  AF</td>\n",
       "      <td>Afro-Pessimism Politics of Hope</td>\n",
       "      <td>MIDS</td>\n",
       "      <td>MIDS</td>\n",
       "      <td>CM</td>\n",
       "      <td>CM</td>\n",
       "      <td>This course will survey the deep and dark hist...</td>\n",
       "    </tr>\n",
       "    <tr>\n",
       "      <th>28</th>\n",
       "      <td>AFRI149  AF</td>\n",
       "      <td>05.0201</td>\n",
       "      <td>AFRI149  AF</td>\n",
       "      <td>Africana Political Theory</td>\n",
       "      <td>SAFR</td>\n",
       "      <td>SAFR</td>\n",
       "      <td>SC</td>\n",
       "      <td>SC</td>\n",
       "      <td>Given the Black dispersal throughout the world...</td>\n",
       "    </tr>\n",
       "    <tr>\n",
       "      <th>69</th>\n",
       "      <td>AMST103  SC</td>\n",
       "      <td>05.0102</td>\n",
       "      <td>AMST103  SC</td>\n",
       "      <td>Intro to American Cultures</td>\n",
       "      <td>SAMS</td>\n",
       "      <td>SAMS</td>\n",
       "      <td>SC</td>\n",
       "      <td>SC</td>\n",
       "      <td>This course, taught by an intercollegiate facu...</td>\n",
       "    </tr>\n",
       "    <tr>\n",
       "      <th>74</th>\n",
       "      <td>AMST124  SC</td>\n",
       "      <td>05.0102</td>\n",
       "      <td>AMST124  SC</td>\n",
       "      <td>Migrant Memoir</td>\n",
       "      <td>SAMS</td>\n",
       "      <td>SAMS</td>\n",
       "      <td>SC</td>\n",
       "      <td>SC</td>\n",
       "      <td>This course explores memoirs of migration (bro...</td>\n",
       "    </tr>\n",
       "    <tr>\n",
       "      <th>75</th>\n",
       "      <td>AMST128  SC</td>\n",
       "      <td>05.0102</td>\n",
       "      <td>AMST128  SC</td>\n",
       "      <td>Race, Space, and Difference</td>\n",
       "      <td>SAMS</td>\n",
       "      <td>SAMS</td>\n",
       "      <td>SC</td>\n",
       "      <td>SC</td>\n",
       "      <td>This course is an introduction to critical sch...</td>\n",
       "    </tr>\n",
       "    <tr>\n",
       "      <th>76</th>\n",
       "      <td>AMST130  SC</td>\n",
       "      <td>05.0102</td>\n",
       "      <td>AMST130  SC</td>\n",
       "      <td>Cold War Taiwanese/America</td>\n",
       "      <td>SAMS</td>\n",
       "      <td>SAMS</td>\n",
       "      <td>SC</td>\n",
       "      <td>SC</td>\n",
       "      <td>This course examines Taiwanese/American histor...</td>\n",
       "    </tr>\n",
       "  </tbody>\n",
       "</table>\n",
       "</div>"
      ],
      "text/plain": [
       "     externalId classificationOfInstructionalProgramCode courseNumber  \\\n",
       "18  AFRI010B AF                                  05.0201  AFRI010B AF   \n",
       "20  AFRI116  AF                                  05.0201  AFRI116  AF   \n",
       "21  AFRI119  AF                                  05.0201  AFRI119  AF   \n",
       "24  AFRI121  AF                                  05.0201  AFRI121  AF   \n",
       "25  AFRI125  AF                                  05.0201  AFRI125  AF   \n",
       "28  AFRI149  AF                                  05.0201  AFRI149  AF   \n",
       "69  AMST103  SC                                  05.0102  AMST103  SC   \n",
       "74  AMST124  SC                                  05.0102  AMST124  SC   \n",
       "75  AMST128  SC                                  05.0102  AMST128  SC   \n",
       "76  AMST130  SC                                  05.0102  AMST130  SC   \n",
       "\n",
       "                         courseTitle subjectAbbreviation departmentExternalId  \\\n",
       "18                  Research Methods                SIDO                 SIDO   \n",
       "20  Marxism & the Black Radical Trad                SAFR                 SAFR   \n",
       "21               Journal & New Media                SAFR                 SAFR   \n",
       "24               Africana Philosophy                MIDS                 MIDS   \n",
       "25   Afro-Pessimism Politics of Hope                MIDS                 MIDS   \n",
       "28         Africana Political Theory                SAFR                 SAFR   \n",
       "69        Intro to American Cultures                SAMS                 SAMS   \n",
       "74                    Migrant Memoir                SAMS                 SAMS   \n",
       "75       Race, Space, and Difference                SAMS                 SAMS   \n",
       "76        Cold War Taiwanese/America                SAMS                 SAMS   \n",
       "\n",
       "   institutionExternalId facilityExternalId  \\\n",
       "18                    SC                 SC   \n",
       "20                    SC                 SC   \n",
       "21                    SC                 SC   \n",
       "24                    CM                 CM   \n",
       "25                    CM                 CM   \n",
       "28                    SC                 SC   \n",
       "69                    SC                 SC   \n",
       "74                    SC                 SC   \n",
       "75                    SC                 SC   \n",
       "76                    SC                 SC   \n",
       "\n",
       "                                          description  \n",
       "18  Africana Studies is an interdisciplinary field...  \n",
       "20  Marxism has had a long and vibrant relationshi...  \n",
       "21  Students research conceptual frameworks toward...  \n",
       "24  Philosophical thought and the philosophical ca...  \n",
       "25  This course will survey the deep and dark hist...  \n",
       "28  Given the Black dispersal throughout the world...  \n",
       "69  This course, taught by an intercollegiate facu...  \n",
       "74  This course explores memoirs of migration (bro...  \n",
       "75  This course is an introduction to critical sch...  \n",
       "76  This course examines Taiwanese/American histor...  "
      ]
     },
     "execution_count": 26,
     "metadata": {},
     "output_type": "execute_result"
    }
   ],
   "source": [
    "data.head(10)"
   ]
  },
  {
   "cell_type": "markdown",
   "metadata": {},
   "source": [
    "At first, it looks like `subjectAbbreviation` and `departmentExternalId` columns have the same entries as well as `institutionExternalId` and `facilityExternalId` so let's check if those columns are equal to each other:"
   ]
  },
  {
   "cell_type": "code",
   "execution_count": 27,
   "metadata": {},
   "outputs": [
    {
     "name": "stdout",
     "output_type": "stream",
     "text": [
      "False\n",
      "False\n"
     ]
    }
   ],
   "source": [
    "print(data[\"subjectAbbreviation\"].equals(data[\"departmentExternalId\"]))\n",
    "print(data[\"institutionExternalId\"].equals(data[\"facilityExternalId\"]))"
   ]
  }
 ],
 "metadata": {
  "kernelspec": {
   "display_name": "Python 3.9.6 64-bit",
   "language": "python",
   "name": "python3"
  },
  "language_info": {
   "codemirror_mode": {
    "name": "ipython",
    "version": 3
   },
   "file_extension": ".py",
   "mimetype": "text/x-python",
   "name": "python",
   "nbconvert_exporter": "python",
   "pygments_lexer": "ipython3",
   "version": "3.9.6"
  },
  "orig_nbformat": 4,
  "vscode": {
   "interpreter": {
    "hash": "31f2aee4e71d21fbe5cf8b01ff0e069b9275f58929596ceb00d14d90e3e16cd6"
   }
  }
 },
 "nbformat": 4,
 "nbformat_minor": 2
}
