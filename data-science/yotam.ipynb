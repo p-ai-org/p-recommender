{
 "cells": [
  {
   "cell_type": "code",
   "execution_count": 12,
   "metadata": {},
   "outputs": [
    {
     "name": "stdout",
     "output_type": "stream",
     "text": [
      "                                               title   identifier  \\\n",
      "0                  Introduction to American Cultures  AMST-103-HM   \n",
      "1                         Print and American Culture  AMST-115-HM   \n",
      "2                               Hyphenated Americans  AMST-120-HM   \n",
      "3    Life: Knowledge, Belief, and Cultural Practices  ANTH-110-HM   \n",
      "4  Introduction to the Anthropology of Science an...  ANTH-111-HM   \n",
      "\n",
      "                                         description      source  credits  \\\n",
      "0  An interdisciplinary introduction to principal...  HarveyMudd      300   \n",
      "1  Covers numerous developments in American print...  HarveyMudd      300   \n",
      "2  A focus on the experience of immigrants in the...  HarveyMudd      300   \n",
      "3  An exploration of cultural attitudes toward li...  HarveyMudd      300   \n",
      "4  An introduction to science and technology as c...  HarveyMudd      300   \n",
      "\n",
      "          instructors offered prerequisites corequisites  currently_offered  \\\n",
      "0             [Staff]                                                 False   \n",
      "1        [Anup Gampa]                                                  True   \n",
      "2          [Balseiro]                                                 False   \n",
      "3           [de Laet]                                                 False   \n",
      "4  [Marianne De Laet]                                                  True   \n",
      "\n",
      "   fee  \n",
      "0    0  \n",
      "1    0  \n",
      "2    0  \n",
      "3    0  \n",
      "4    0  \n",
      "harvey mudd courses 377\n",
      "pomona courses 1446\n",
      "claremont courses 816\n",
      "scripps courses 943\n",
      "pitzer courses 861\n"
     ]
    }
   ],
   "source": [
    "import pandas as pd\n",
    "\n",
    "file = r\"/Users/yotamtwersky/Documents/GitHub/p-recommender/data-science/data_5scheduler.json\"\n",
    "error_lines_bad = False\n",
    "df = pd.read_json(file)\n",
    "print (df.head())\n",
    "\n",
    "\n",
    "print(\"harvey mudd courses \" + str(len(df[df.source == \"HarveyMudd\"])))\n",
    "print(\"pomona courses \" + str(len(df[df.source == \"Pomona\"])))\n",
    "print(\"claremont courses \" + str(len(df[df.source == \"ClaremontMckenna\"])))\n",
    "print(\"scripps courses \" + str(len(df[df.source == \"Scripps\"])))\n",
    "print(\"pitzer courses \" + str(len(df[df.source == \"Pitzer\"])))"
   ]
  }
 ],
 "metadata": {
  "kernelspec": {
   "display_name": "Python 3.10.0 64-bit",
   "language": "python",
   "name": "python3"
  },
  "language_info": {
   "codemirror_mode": {
    "name": "ipython",
    "version": 3
   },
   "file_extension": ".py",
   "mimetype": "text/x-python",
   "name": "python",
   "nbconvert_exporter": "python",
   "pygments_lexer": "ipython3",
   "version": "3.10.0"
  },
  "orig_nbformat": 4,
  "vscode": {
   "interpreter": {
    "hash": "aee8b7b246df8f9039afb4144a1f6fd8d2ca17a180786b69acc140d282b71a49"
   }
  }
 },
 "nbformat": 4,
 "nbformat_minor": 2
}
