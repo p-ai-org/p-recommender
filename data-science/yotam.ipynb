{
 "cells": [
  {
   "cell_type": "code",
   "execution_count": 97,
   "metadata": {},
   "outputs": [],
   "source": [
    "import pandas as pd\n",
    "\n",
    "\n",
    "from sklearn.feature_extraction.text import CountVectorizer\n",
    "\n",
    "file = r\"/Users/yotamtwersky/Documents/GitHub/p-recommender/data-science/data_5scheduler.json\"\n",
    "error_lines_bad = False\n",
    "df = pd.read_json(file)\n",
    "\n",
    "\n"
   ]
  },
  {
   "cell_type": "code",
   "execution_count": null,
   "metadata": {},
   "outputs": [
    {
     "name": "stdout",
     "output_type": "stream",
     "text": [
      "recommendations\n",
      "Input a Course identifier to Obtain Recommendations:metadata['identifier'].iloc[course_indices]\n",
      "Error: No Course exists with the given identifier.\n",
      "Input a Course identifier to Obtain Recommendations:CSCI-054-PO\n",
      "[4071                     Introduction to Methods of Proof\n",
      "514                                 Computing for the Web\n",
      "1466    Introduction to Computer Science in Grace with...\n",
      "110               Data Structures and Program Development\n",
      "1468    Introduction to Computer Science in Python wit...\n",
      "1467    Intro to Computer Science in Java with Laboratory\n",
      "1465    Introduction to Computer Science Exploring Top...\n",
      "949                                         Combinatorics\n",
      "2964             Introduction to Python and Data Analysis\n",
      "108           Principles and Practice of Computer Science\n",
      "Name: title, dtype: object, 4071     MATH-100-PZ\n",
      "514      CSCI-040-CM\n",
      "1466    CSCI-051G-PO\n",
      "110      CSCI-070-HM\n",
      "1468    CSCI-051P-PO\n",
      "1467    CSCI-051J-PO\n",
      "1465    CSCI-051A-PO\n",
      "949      MATH-103-CM\n",
      "2964       DS-001-SC\n",
      "108      CSCI-042-HM\n",
      "Name: identifier, dtype: object]\n"
     ]
    }
   ],
   "source": [
    "#New\n",
    "from sklearn.metrics.pairwise import linear_kernel\n",
    "\n",
    "\n",
    "\n",
    "metadata = pd.read_json(file).dropna()\n",
    "metadata.head()\n",
    "\n",
    "indices = pd.Series(metadata.index, index=metadata['identifier']).drop_duplicates()\n",
    "\n",
    "def get_recommendations(title, cosine_sim, indices):\n",
    "    # Get the index of the movie that matches the title\n",
    "    idx = indices[title]\n",
    "    # Get the pairwsie similarity scores\n",
    "    sim_scores = list(enumerate(cosine_sim[idx]))\n",
    "    # Sort the movies based on the similarity scores\n",
    "    sim_scores = sorted(sim_scores, key=lambda x: x[1], reverse=True)\n",
    "    # Get the scores for 10 most similar movies\n",
    "    sim_scores = sim_scores[1:11]\n",
    "    # Get the movie indices\n",
    "    course_indices = [i[0] for i in sim_scores]\n",
    "    # Return the top 10 most similar movies\n",
    "    return [metadata['title'].iloc[course_indices], metadata['identifier'].iloc[course_indices]]\n",
    "\n",
    "course_descriptions = metadata['description']\n",
    "\n",
    "tfidf = TfidfVectorizer(stop_words='english')\n",
    "\n",
    "# Construct the TF-IDF matrix\n",
    "tfidf_matrix = tfidf.fit_transform(course_descriptions)\n",
    "\n",
    "# Generate the cosine similarity matrix\n",
    "cosine_sim = linear_kernel(tfidf_matrix, tfidf_matrix)\n",
    "\n",
    "# Generate recommendations\n",
    "print(\"recommendations\")\n",
    "\n",
    "def go():\n",
    "    userinput = input(\"Input a Course identifier to Obtain Recommendations:\")\n",
    "    try:\n",
    "        print(get_recommendations(userinput, cosine_sim, indices))\n",
    "        go()\n",
    "    except:\n",
    "        print(\"Error: No Course exists with the given identifier.\")\n",
    "        go()\n",
    "        \n",
    "go()\n",
    "\n"
   ]
  },
  {
   "cell_type": "code",
   "execution_count": null,
   "metadata": {},
   "outputs": [],
   "source": []
  },
  {
   "cell_type": "code",
   "execution_count": null,
   "metadata": {},
   "outputs": [],
   "source": []
  },
  {
   "cell_type": "code",
   "execution_count": null,
   "metadata": {},
   "outputs": [],
   "source": [
    "\n"
   ]
  },
  {
   "cell_type": "code",
   "execution_count": null,
   "metadata": {},
   "outputs": [],
   "source": []
  }
 ],
 "metadata": {
  "kernelspec": {
   "display_name": "Python 3 (ipykernel)",
   "language": "python",
   "name": "python3"
  },
  "language_info": {
   "codemirror_mode": {
    "name": "ipython",
    "version": 3
   },
   "file_extension": ".py",
   "mimetype": "text/x-python",
   "name": "python",
   "nbconvert_exporter": "python",
   "pygments_lexer": "ipython3",
   "version": "3.9.12"
  },
  "vscode": {
   "interpreter": {
    "hash": "aee8b7b246df8f9039afb4144a1f6fd8d2ca17a180786b69acc140d282b71a49"
   }
  }
 },
 "nbformat": 4,
 "nbformat_minor": 2
}
